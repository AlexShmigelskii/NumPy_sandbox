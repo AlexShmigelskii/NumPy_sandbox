{
 "cells": [
  {
   "cell_type": "code",
   "execution_count": 1,
   "metadata": {
    "collapsed": true,
    "ExecuteTime": {
     "end_time": "2023-08-14T18:36:27.305586Z",
     "start_time": "2023-08-14T18:36:25.560478Z"
    }
   },
   "outputs": [],
   "source": [
    "import numpy as np"
   ]
  },
  {
   "cell_type": "code",
   "execution_count": 10,
   "outputs": [
    {
     "data": {
      "text/plain": "array([ 0,  2,  4,  6,  8, 10, 12, 14, 16, 18])"
     },
     "execution_count": 10,
     "metadata": {},
     "output_type": "execute_result"
    }
   ],
   "source": [
    "# Задача 1: Создайте одномерный массив NumPy, содержащий первые 10 четных чисел.\n",
    "\n",
    "np.arange(0, 20, 2)"
   ],
   "metadata": {
    "collapsed": false,
    "ExecuteTime": {
     "end_time": "2023-08-14T18:38:44.988028Z",
     "start_time": "2023-08-14T18:38:44.909819Z"
    }
   }
  },
  {
   "cell_type": "code",
   "execution_count": 13,
   "outputs": [
    {
     "data": {
      "text/plain": "array([[7, 5, 8],\n       [8, 1, 6],\n       [2, 1, 4]])"
     },
     "execution_count": 13,
     "metadata": {},
     "output_type": "execute_result"
    }
   ],
   "source": [
    "# Задача 2: Создайте двумерный массив размером 3x3, заполненный случайными целыми числами от 1 до 9.\n",
    "\n",
    "random_matrix = np.random.randint(1, 10, size=(3, 3))\n",
    "random_matrix"
   ],
   "metadata": {
    "collapsed": false,
    "ExecuteTime": {
     "end_time": "2023-08-14T18:40:58.968144Z",
     "start_time": "2023-08-14T18:40:58.871141Z"
    }
   }
  },
  {
   "cell_type": "code",
   "execution_count": 16,
   "outputs": [
    {
     "data": {
      "text/plain": "(8, 1, 4.666666666666667)"
     },
     "execution_count": 16,
     "metadata": {},
     "output_type": "execute_result"
    }
   ],
   "source": [
    "# Задача 3: Найдите среднее, максимальное и минимальное значение в массиве из задачи 2.\n",
    "\n",
    "maximum = np.max(random_matrix)\n",
    "minimum = np.min(random_matrix)\n",
    "mean = np.mean(random_matrix)\n",
    "maximum, minimum, mean"
   ],
   "metadata": {
    "collapsed": false,
    "ExecuteTime": {
     "end_time": "2023-08-14T18:42:39.982384Z",
     "start_time": "2023-08-14T18:42:39.880896Z"
    }
   }
  },
  {
   "cell_type": "code",
   "execution_count": 19,
   "outputs": [
    {
     "data": {
      "text/plain": "array([9, 8, 7, 6, 5, 4, 3, 2, 1, 0])"
     },
     "execution_count": 19,
     "metadata": {},
     "output_type": "execute_result"
    }
   ],
   "source": [
    "# Задача 4: Создайте массив, содержащий последовательность чисел от 0 до 9. Потом измените порядок элементов на обратный.\n",
    "\n",
    "mas = np.arange(10)\n",
    "mas[::-1]"
   ],
   "metadata": {
    "collapsed": false,
    "ExecuteTime": {
     "end_time": "2023-08-14T18:44:54.989303Z",
     "start_time": "2023-08-14T18:44:54.861014Z"
    }
   }
  },
  {
   "cell_type": "code",
   "execution_count": 23,
   "outputs": [
    {
     "data": {
      "text/plain": "array([[1, 0, 0, 0, 0],\n       [0, 2, 0, 0, 0],\n       [0, 0, 3, 0, 0],\n       [0, 0, 0, 4, 0],\n       [0, 0, 0, 0, 5]])"
     },
     "execution_count": 23,
     "metadata": {},
     "output_type": "execute_result"
    }
   ],
   "source": [
    "# Задача 5: Создайте матрицу 5x5, где на главной диагонали будут стоять числа от 1 до 5, а вне диагонали - нули.\n",
    "\n",
    "np.diag(np.arange(1, 6))"
   ],
   "metadata": {
    "collapsed": false,
    "ExecuteTime": {
     "end_time": "2023-08-14T18:47:25.031592Z",
     "start_time": "2023-08-14T18:47:24.529143Z"
    }
   }
  },
  {
   "cell_type": "code",
   "execution_count": 29,
   "outputs": [
    {
     "data": {
      "text/plain": "array([[0.19513976, 0.04470701, 0.90722671, 0.29175877],\n       [0.71398705, 0.23109753, 0.40776715, 0.01302964],\n       [0.04667887, 0.0074316 , 0.4018483 , 0.34328251],\n       [0.12967506, 0.00516474, 0.22470068, 0.00634105]])"
     },
     "execution_count": 29,
     "metadata": {},
     "output_type": "execute_result"
    }
   ],
   "source": [
    "# Задача 6: Создайте два случайных массива размером 4x4 и выполните их поэлементное умножение.\n",
    "\n",
    "first = np.random.rand(4, 4)\n",
    "second = np.random.rand(4, 4)\n",
    "product = first * second\n",
    "product"
   ],
   "metadata": {
    "collapsed": false,
    "ExecuteTime": {
     "end_time": "2023-08-14T18:54:56.937757Z",
     "start_time": "2023-08-14T18:54:56.866264Z"
    }
   }
  },
  {
   "cell_type": "code",
   "execution_count": 34,
   "outputs": [
    {
     "data": {
      "text/plain": "(array([ 5,  7,  9, 13, 15, 20, 21, 24, 64, 69, 72, 83, 89, 98]),)"
     },
     "execution_count": 34,
     "metadata": {},
     "output_type": "execute_result"
    }
   ],
   "source": [
    "# Задача 7: Найдите индексы максимальных значений в одномерном массиве.\n",
    "\n",
    "mas = np.random.randint(1, 10, size=100)\n",
    "np.where(mas == np.max(mas))"
   ],
   "metadata": {
    "collapsed": false,
    "ExecuteTime": {
     "end_time": "2023-08-14T19:02:39.597987Z",
     "start_time": "2023-08-14T19:02:39.344531Z"
    }
   }
  },
  {
   "cell_type": "code",
   "execution_count": 42,
   "outputs": [
    {
     "data": {
      "text/plain": "9"
     },
     "execution_count": 42,
     "metadata": {},
     "output_type": "execute_result"
    }
   ],
   "source": [
    "# Задача 8: Создайте массив из 20 случайных чисел и найдите количество чисел, больше среднего значения этого массива.\n",
    "\n",
    "mas = np.random.randint(1, 100, size=20)\n",
    "mean_value = np.mean(mas)\n",
    "np.sum(mas > mean_value)"
   ],
   "metadata": {
    "collapsed": false,
    "ExecuteTime": {
     "end_time": "2023-08-14T19:11:33.569897Z",
     "start_time": "2023-08-14T19:11:33.438249Z"
    }
   }
  },
  {
   "cell_type": "code",
   "execution_count": 51,
   "outputs": [
    {
     "data": {
      "text/plain": "8.99999999999999"
     },
     "execution_count": 51,
     "metadata": {},
     "output_type": "execute_result"
    }
   ],
   "source": [
    "# Задача 9: Создайте случайную матрицу 3x3 и найдите определитель этой матрицы.\n",
    "\n",
    "matrix = np.random.randint(1, 10, size=(3, 3))\n",
    "np.linalg.det(matrix)"
   ],
   "metadata": {
    "collapsed": false,
    "ExecuteTime": {
     "end_time": "2023-08-14T19:17:52.429088Z",
     "start_time": "2023-08-14T19:17:52.318786Z"
    }
   }
  },
  {
   "cell_type": "code",
   "execution_count": 54,
   "outputs": [
    {
     "data": {
      "text/plain": "array([-1, -1, -1,  7,  9, -1, -1,  8, -1, -1, -1, -1, -1,  9,  8, -1,  7,\n       -1, -1,  5,  7, -1,  6,  9, -1, -1,  6,  5, -1, -1, -1,  7,  5, -1,\n        8,  8,  8, -1,  9,  5, -1, -1, -1,  8, -1, -1,  7, -1,  9,  5,  6,\n       -1,  9, -1,  8,  7,  5, -1, -1, -1, -1, -1,  7, -1, -1,  6,  6, -1,\n        8, -1, -1,  6,  6,  5,  5, -1, -1,  5,  5, -1, -1, -1, -1,  5,  9,\n        5, -1, -1,  7,  7,  7,  8, -1, -1, -1,  9, -1,  6, -1, -1])"
     },
     "execution_count": 54,
     "metadata": {},
     "output_type": "execute_result"
    }
   ],
   "source": [
    "# Задача 10: Создайте массив из чисел от 0 до 9. Используя маску, замените все значения меньше 5 на -1.\n",
    "\n",
    "mas = np.random.randint(0, 10, size=100)\n",
    "mas[mas < 5] = -1  # Замена значений меньше 5 на -1\n",
    "mas"
   ],
   "metadata": {
    "collapsed": false,
    "ExecuteTime": {
     "end_time": "2023-08-14T19:22:49.190984Z",
     "start_time": "2023-08-14T19:22:48.988079Z"
    }
   }
  },
  {
   "cell_type": "code",
   "execution_count": null,
   "outputs": [],
   "source": [],
   "metadata": {
    "collapsed": false
   }
  }
 ],
 "metadata": {
  "kernelspec": {
   "display_name": "Python 3",
   "language": "python",
   "name": "python3"
  },
  "language_info": {
   "codemirror_mode": {
    "name": "ipython",
    "version": 2
   },
   "file_extension": ".py",
   "mimetype": "text/x-python",
   "name": "python",
   "nbconvert_exporter": "python",
   "pygments_lexer": "ipython2",
   "version": "2.7.6"
  }
 },
 "nbformat": 4,
 "nbformat_minor": 0
}
